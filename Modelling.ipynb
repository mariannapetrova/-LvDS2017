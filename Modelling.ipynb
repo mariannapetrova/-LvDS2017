{
 "cells": [
  {
   "cell_type": "code",
   "execution_count": 31,
   "metadata": {
    "collapsed": false
   },
   "outputs": [],
   "source": [
    "import pandas as pd\n",
    "import numpy as np\n",
    "import scipy as scp\n",
    "import matplotlib.pyplot as plt\n",
    "import seaborn as sns\n",
    "import math"
   ]
  },
  {
   "cell_type": "code",
   "execution_count": 32,
   "metadata": {
    "collapsed": false
   },
   "outputs": [],
   "source": [
    "pd.set_option('display.max_columns', None)\n",
    "\n",
    "df = pd.read_csv('newClusteredChurn (1).csv')"
   ]
  },
  {
   "cell_type": "markdown",
   "metadata": {},
   "source": [
    "## Playing with features a little more"
   ]
  },
  {
   "cell_type": "code",
   "execution_count": 33,
   "metadata": {
    "collapsed": false
   },
   "outputs": [],
   "source": [
    "#remove all those people who had their first transactions on final year\n",
    "df = df[df['2015_lt_trans_year'] != 1]"
   ]
  },
  {
   "cell_type": "code",
   "execution_count": 34,
   "metadata": {
    "collapsed": false
   },
   "outputs": [],
   "source": [
    "df['AvgNumberOfDays_forTrans'] = df['DaysBetweenFL(L-1)']/df['CountTransactions']"
   ]
  },
  {
   "cell_type": "code",
   "execution_count": 35,
   "metadata": {
    "collapsed": false
   },
   "outputs": [
    {
     "data": {
      "text/plain": [
       "array(['ID_user', 'Age', 'CountTransactions', 'DaysBetweenFL(L-1)',\n",
       "       'DaysBetweenLastTrAndToday', 'AgeGroupOrder', 'StDevPrice',\n",
       "       'CountOrders', 'TransactionsPerOrder', 'SpentPerOrder',\n",
       "       'SpentPerTransaction', 'MoneySpentTotal', 'FirstTransactionDate(1)',\n",
       "       'LastTransactionDate(L)', 'DistinctCountProducts',\n",
       "       'DistinctCountProductCategories', 'MostFrequentCategory',\n",
       "       'CountTransInMostFreqCat', 'MostSpentCategory',\n",
       "       'SpentInMostSpentCat', 'DaysFrom1TrTo1YearChurn',\n",
       "       'DaysFrom1TrTo05YearChurn', 'AgeGroupLabels', '18-24', '25-34',\n",
       "       '35-44', '45-54', '55-64', '65', 'female', 'male', 'unknown', 'Apr',\n",
       "       'Aug', 'Dec', 'Feb', 'Jan', 'Jul', 'Jun', 'Mar', 'May', 'Nov',\n",
       "       'Oct', 'Sep', 'FirstTransactionSeason', 'LastTransactionSeason',\n",
       "       '2010_lt_trans_year', '2011_lt_trans_year', '2012_lt_trans_year',\n",
       "       '2013_lt_trans_year', '2014_lt_trans_year', '2015_lt_trans_year',\n",
       "       '2010', '2011', '2012', '2013', '2014', '2015',\n",
       "       'SpentPerTransaction2', 'Less18', 'cluster', 'Today',\n",
       "       'TodayMinLastOrder', 'ChurnUpd', 'AvgNumberOfDays_forTrans'], dtype=object)"
      ]
     },
     "execution_count": 35,
     "metadata": {},
     "output_type": "execute_result"
    }
   ],
   "source": [
    "df.columns.values"
   ]
  },
  {
   "cell_type": "code",
   "execution_count": 40,
   "metadata": {
    "collapsed": false
   },
   "outputs": [],
   "source": [
    "x_feature_names = ['CountTransactions','SpentPerTransaction', 'MoneySpentTotal',\n",
    "       'DistinctCountProductCategories', 'MostFrequentCategory',\n",
    "       'CountTransInMostFreqCat', 'MostSpentCategory', '18-24', '25-34',\n",
    "       '35-44', '45-54', '55-64', '65', 'Less18', 'female', 'male', 'unknown', 'Apr',\n",
    "       'Aug', 'Dec', 'Feb', 'Jan', 'Jul', 'Jun', 'Mar', 'May', 'Nov',\n",
    "       'Oct', 'Sep', 'FirstTransactionSeason', 'LastTransactionSeason',\n",
    "       'SpentPerTransaction2', 'DaysBetweenFL(L-1)', 'AvgNumberOfDays_forTrans','2010', '2011', '2012']\n",
    "\n",
    "X = df[x_feature_names]\n",
    "X.head()\n",
    "\n",
    "y = df['ChurnUpd']"
   ]
  },
  {
   "cell_type": "code",
   "execution_count": 41,
   "metadata": {
    "collapsed": false
   },
   "outputs": [
    {
     "data": {
      "text/plain": [
       "{0: 2333, 1: 3923}"
      ]
     },
     "execution_count": 41,
     "metadata": {},
     "output_type": "execute_result"
    }
   ],
   "source": [
    "class_label_dict = dict(y.value_counts())\n",
    "class_label_dict"
   ]
  },
  {
   "cell_type": "code",
   "execution_count": 42,
   "metadata": {
    "collapsed": false
   },
   "outputs": [
    {
     "name": "stdout",
     "output_type": "stream",
     "text": [
      "(0, 'CountTransactions')\n",
      "(1, 'SpentPerTransaction')\n",
      "(2, 'MoneySpentTotal')\n",
      "(3, 'DistinctCountProductCategories')\n",
      "(4, 'MostFrequentCategory')\n",
      "(5, 'CountTransInMostFreqCat')\n",
      "(6, 'MostSpentCategory')\n",
      "(7, '18-24')\n",
      "(8, '25-34')\n",
      "(9, '35-44')\n",
      "(10, '45-54')\n",
      "(11, '55-64')\n",
      "(12, '65')\n",
      "(13, 'Less18')\n",
      "(14, 'female')\n",
      "(15, 'male')\n",
      "(16, 'unknown')\n",
      "(17, 'Apr')\n",
      "(18, 'Aug')\n",
      "(19, 'Dec')\n",
      "(20, 'Feb')\n",
      "(21, 'Jan')\n",
      "(22, 'Jul')\n",
      "(23, 'Jun')\n",
      "(24, 'Mar')\n",
      "(25, 'May')\n",
      "(26, 'Nov')\n",
      "(27, 'Oct')\n",
      "(28, 'Sep')\n",
      "(29, 'FirstTransactionSeason')\n",
      "(30, 'LastTransactionSeason')\n",
      "(31, 'SpentPerTransaction2')\n",
      "(32, 'DaysBetweenFL(L-1)')\n",
      "(33, 'AvgNumberOfDays_forTrans')\n",
      "(34, '2010')\n",
      "(35, '2011')\n",
      "(36, '2012')\n"
     ]
    }
   ],
   "source": [
    "for i in range(0, len(x_feature_names)):\n",
    "    print (i, x_feature_names[i])"
   ]
  },
  {
   "cell_type": "markdown",
   "metadata": {},
   "source": [
    "## Feature Scaling and Selection"
   ]
  },
  {
   "cell_type": "raw",
   "metadata": {
    "collapsed": false
   },
   "source": [
    "from sklearn.feature_selection import SelectKBest\n",
    "from sklearn.feature_selection import chi2\n",
    "\n",
    "print X.shape\n",
    "\n",
    "chi2 = SelectKBest(chi2, k=20)\n",
    "X_new = chi2.fit_transform(X, y)\n",
    "print X_new.shape"
   ]
  },
  {
   "cell_type": "raw",
   "metadata": {},
   "source": [
    "p_values_of_features_dict = {}\n",
    "for i in range(0, len(x_feature_names)):\n",
    "    p_values_of_features_dict[x_feature_names[i]] = chi2.pvalues_[i]\n",
    "    \n",
    "p_values_of_features_dict\n",
    "import operator\n",
    "sorted_p_values_of_features_dict = sorted(p_values_of_features_dict.items(), key=operator.itemgetter(1))"
   ]
  },
  {
   "cell_type": "raw",
   "metadata": {
    "collapsed": false
   },
   "source": [
    "sorted_p_values_of_features_dict"
   ]
  },
  {
   "cell_type": "code",
   "execution_count": 43,
   "metadata": {
    "collapsed": false
   },
   "outputs": [],
   "source": [
    "from sklearn.preprocessing import StandardScaler\n",
    "\n",
    "scaler = StandardScaler()\n",
    "\n",
    "X_new = scaler.fit_transform(X)"
   ]
  },
  {
   "cell_type": "markdown",
   "metadata": {},
   "source": [
    "## Train Test Split"
   ]
  },
  {
   "cell_type": "code",
   "execution_count": 44,
   "metadata": {
    "collapsed": false
   },
   "outputs": [],
   "source": [
    "train_x, test_x, train_y, test_y = cross_validation.train_test_split(X, y, train_size=0.8, random_state=3)"
   ]
  },
  {
   "cell_type": "markdown",
   "metadata": {},
   "source": [
    "## Models"
   ]
  },
  {
   "cell_type": "code",
   "execution_count": 45,
   "metadata": {
    "collapsed": false
   },
   "outputs": [],
   "source": [
    "from sklearn.grid_search import GridSearchCV\n",
    "from sklearn import cross_validation\n",
    "from sklearn import metrics\n",
    "\n",
    "from sklearn.ensemble import RandomForestClassifier\n",
    "from sklearn.linear_model import LogisticRegression\n",
    "from sklearn.ensemble import BaggingClassifier\n",
    "#from sklearn.gaussian_process import GaussianProcessClassifier\n",
    "from sklearn.svm import SVC\n",
    "from xgboost import XGBClassifier\n",
    "from sklearn.ensemble import ExtraTreesClassifier\n",
    "from sklearn.ensemble import AdaBoostClassifier\n",
    "from sklearn.ensemble import GradientBoostingClassifier"
   ]
  },
  {
   "cell_type": "markdown",
   "metadata": {},
   "source": [
    "## create dict for class weights"
   ]
  },
  {
   "cell_type": "code",
   "execution_count": 46,
   "metadata": {
    "collapsed": false
   },
   "outputs": [
    {
     "data": {
      "text/plain": [
       "{0: 1.3437164339419978, 1: 0.79630808402291531}"
      ]
     },
     "execution_count": 46,
     "metadata": {},
     "output_type": "execute_result"
    }
   ],
   "source": [
    "from sklearn.utils import class_weight\n",
    "class_weight = class_weight.compute_class_weight('balanced', np.unique(train_y), train_y)\n",
    "class_weight_dict = {0:class_weight[0], 1:class_weight[1]}\n",
    "class_weight_dict"
   ]
  },
  {
   "cell_type": "code",
   "execution_count": 47,
   "metadata": {
    "collapsed": false
   },
   "outputs": [],
   "source": [
    "#draw confusion matrix\n",
    "def draw_confusion_matrix(true,preds):\n",
    "    conf_matx = metrics.confusion_matrix(true, preds)\n",
    "    sns.heatmap(conf_matx, annot=False,annot_kws={\"size\": 16},fmt='g', cbar=False)\n",
    "    sns.plt.show()\n",
    "    return conf_matx"
   ]
  },
  {
   "cell_type": "code",
   "execution_count": 209,
   "metadata": {
    "collapsed": true
   },
   "outputs": [],
   "source": [
    "#draw roc curve and give auc\n",
    "def give_auc_draw_roc(test_values, prediction_values):\n",
    "    fpr, tpr, thresholds = metrics.roc_curve(test_values, prediction_values)\n",
    "    auc = metrics.auc(fpr, tpr)\n",
    "    plt.plot(fpr,tpr)\n",
    "    plt.xlabel('False Positive')\n",
    "    plt.ylabel('True Positive')\n",
    "    plt.title('ROC Curve, AUC=%s'%(auc))\n",
    "    plt.savefig('roc_auc.png')\n",
    "    return auc\n",
    "    \n",
    "    #auc = np.trapz(true_pos,false_pos)\n",
    "    #return auc"
   ]
  },
  {
   "cell_type": "code",
   "execution_count": 49,
   "metadata": {
    "collapsed": false
   },
   "outputs": [
    {
     "name": "stdout",
     "output_type": "stream",
     "text": [
      "{'bootstrap': [True]}\n",
      "({'bootstrap': True}, 0.8756268668436051)\n"
     ]
    }
   ],
   "source": [
    "#Random Forest Classifier\n",
    "\n",
    "params = {'bootstrap':[True]}\n",
    "\n",
    "rfm = GridSearchCV(RandomForestClassifier(class_weight=class_weight_dict, n_estimators=1000), params, n_jobs=-1, cv=3, \n",
    "                   scoring='roc_auc')\n",
    "#rfm = RandomForestClassifier(max_depth=7, n_estimators=1000)\n",
    "rfm = rfm.fit(train_x, train_y)\n",
    "rfm_preds = rfm.predict(test_x)\n",
    "\n",
    "print params\n",
    "print (rfm.best_params_, rfm.best_score_) "
   ]
  },
  {
   "cell_type": "code",
   "execution_count": 15,
   "metadata": {
    "collapsed": false
   },
   "outputs": [],
   "source": [
    "#get churn probabilities from random forest\n",
    "#X['probab_churn'] = pd.DataFrame(xyz)"
   ]
  },
  {
   "cell_type": "code",
   "execution_count": 30,
   "metadata": {
    "collapsed": false
   },
   "outputs": [],
   "source": [
    "#probab_churn = pd.DataFrame(xyz)"
   ]
  },
  {
   "cell_type": "raw",
   "metadata": {
    "collapsed": false
   },
   "source": [
    "cluster1 = X[X['cluster']==1]\n",
    "cluster0 = X[X['cluster']==0]\n",
    "cluster2 = X[X['cluster']==2]\n",
    "cluster3 = X[X['cluster']==3]\n",
    "\n",
    "np.mean(cluster0['probab_churn'])"
   ]
  },
  {
   "cell_type": "code",
   "execution_count": 50,
   "metadata": {
    "collapsed": false
   },
   "outputs": [
    {
     "data": {
      "image/png": "[encoded data removed]",
      "text/plain": [
       "<matplotlib.figure.Figure at 0x7f022d41cfd0>"
      ]
     },
     "metadata": {},
     "output_type": "display_data"
    },
    {
     "data": {
      "image/png": "[encoded data removed]",
      "text/plain": [
       "<matplotlib.figure.Figure at 0x7f022c05b210>"
      ]
     },
     "metadata": {},
     "output_type": "display_data"
    },
    {
     "data": {
      "text/plain": [
       "0.7731934941049502"
      ]
     },
     "execution_count": 50,
     "metadata": {},
     "output_type": "execute_result"
    }
   ],
   "source": [
    "#confusion matrix for random forest on test data\n",
    "rfm_conf_matx = draw_confusion_matrix(test_y, rfm_preds)\n",
    "give_auc_draw_roc(test_y, rfm_preds)"
   ]
  },
  {
   "cell_type": "code",
   "execution_count": 52,
   "metadata": {
    "collapsed": false
   },
   "outputs": [
    {
     "name": "stdout",
     "output_type": "stream",
     "text": [
      "{'penalty': ['l2', 'l1'], 'C': array([   1.02329299,    1.70259405,    2.83284115,    4.71338954,\n",
      "          7.84231792,   13.04834874,   21.71034209,   36.12249817,\n",
      "         60.10199512,  100.        ])}\n",
      "({'penalty': 'l1', 'C': 1.7025940490861411}, 0.7779146446915555)\n"
     ]
    }
   ],
   "source": [
    "#logistic regression classifier\n",
    "params = {'penalty':['l2','l1'], 'C':np.logspace(0.01, 2, 10)}\n",
    "\n",
    "lr = GridSearchCV(LogisticRegression(), params, n_jobs=-1, cv=3, scoring='roc_auc')\n",
    "lr = lr.fit(train_x, train_y)\n",
    "lr_preds = lr.predict(test_x)\n",
    "\n",
    "print params\n",
    "print (lr.best_params_, lr.best_score_)"
   ]
  },
  {
   "cell_type": "code",
   "execution_count": 53,
   "metadata": {
    "collapsed": false
   },
   "outputs": [
    {
     "data": {
      "image/png": "[encoded data removed]",
      "text/plain": [
       "<matplotlib.figure.Figure at 0x7f022c07b350>"
      ]
     },
     "metadata": {},
     "output_type": "display_data"
    },
    {
     "data": {
      "image/png": "[encoded data removed]",
      "text/plain": [
       "<matplotlib.figure.Figure at 0x7f022c0d4390>"
      ]
     },
     "metadata": {},
     "output_type": "display_data"
    },
    {
     "data": {
      "text/plain": [
       "0.64748090938994318"
      ]
     },
     "execution_count": 53,
     "metadata": {},
     "output_type": "execute_result"
    }
   ],
   "source": [
    "draw_confusion_matrix(test_y, lr_preds)\n",
    "give_auc_draw_roc(test_y, lr_preds)"
   ]
  },
  {
   "cell_type": "code",
   "execution_count": 54,
   "metadata": {
    "collapsed": false
   },
   "outputs": [
    {
     "name": "stdout",
     "output_type": "stream",
     "text": [
      "{'bootstrap': [True]}\n",
      "({'bootstrap': True}, 0.8801453733022033)\n"
     ]
    }
   ],
   "source": [
    "#Bagging Classifier\n",
    "params = {'bootstrap':[True]}\n",
    "\n",
    "bc = GridSearchCV(BaggingClassifier(n_estimators=1500), params, n_jobs=-1, cv=3, scoring='roc_auc')\n",
    "#rfm = RandomForestClassifier(max_depth=7, n_estimators=1000)\n",
    "bc = bc.fit(train_x, train_y)\n",
    "bc_preds = bc.predict(test_x)\n",
    "\n",
    "print params\n",
    "print (bc.best_params_, bc.best_score_) "
   ]
  },
  {
   "cell_type": "code",
   "execution_count": 55,
   "metadata": {
    "collapsed": false
   },
   "outputs": [
    {
     "data": {
      "image/png": "[encoded data removed]",
      "text/plain": [
       "<matplotlib.figure.Figure at 0x7f022cd17590>"
      ]
     },
     "metadata": {},
     "output_type": "display_data"
    },
    {
     "data": {
      "image/png": "[encoded data removed]",
      "text/plain": [
       "<matplotlib.figure.Figure at 0x7f022c0400d0>"
      ]
     },
     "metadata": {},
     "output_type": "display_data"
    },
    {
     "data": {
      "text/plain": [
       "0.78478922172292587"
      ]
     },
     "execution_count": 55,
     "metadata": {},
     "output_type": "execute_result"
    }
   ],
   "source": [
    "draw_confusion_matrix(test_y, bc_preds)\n",
    "give_auc_draw_roc(test_y, bc_preds)"
   ]
  },
  {
   "cell_type": "raw",
   "metadata": {},
   "source": [
    "#gaussian classifier taking too long- run later\n",
    "params = {}\n",
    "gp = GridSearchCV(GaussianProcessClassifier(), params, n_jobs = -1, cv=3, scoring = 'roc_auc')\n",
    "gp.fit(train_x, train_y)\n",
    "gp_preds = gp.predict_proba(test_y)\n",
    "\n",
    "print(\"Best params & associated score\", gp.best_params_, gp.best_score_)"
   ]
  },
  {
   "cell_type": "code",
   "execution_count": 58,
   "metadata": {
    "collapsed": false
   },
   "outputs": [
    {
     "name": "stdout",
     "output_type": "stream",
     "text": [
      "('Best C & associated score', {'kernel': 'rbf', 'C': 1000.0, 'gamma': 0.001}, 0.5696703218341443)\n"
     ]
    }
   ],
   "source": [
    "# svm\n",
    "params = {'C': np.logspace(1, 3, 10) ,'gamma': [0.001], 'kernel': ['rbf']}\n",
    "\n",
    "svc = GridSearchCV(SVC(class_weight=class_weight_dict), params, n_jobs = -1, cv=3, scoring = 'roc_auc')\n",
    "svc = svc.fit(train_x, train_y)\n",
    "svc_preds = svc.predict(test_x)\n",
    "\n",
    "print(\"Best C & associated score\", svc.best_params_, svc.best_score_)"
   ]
  },
  {
   "cell_type": "code",
   "execution_count": 57,
   "metadata": {
    "collapsed": false
   },
   "outputs": [
    {
     "data": {
      "image/png": "[encoded data removed]",
      "text/plain": [
       "<matplotlib.figure.Figure at 0x7f021e7f6e90>"
      ]
     },
     "metadata": {},
     "output_type": "display_data"
    },
    {
     "data": {
      "image/png": "[encoded data removed]",
      "text/plain": [
       "<matplotlib.figure.Figure at 0x7f022c0ba150>"
      ]
     },
     "metadata": {},
     "output_type": "display_data"
    },
    {
     "data": {
      "text/plain": [
       "0.51593036310897611"
      ]
     },
     "execution_count": 57,
     "metadata": {},
     "output_type": "execute_result"
    }
   ],
   "source": [
    "draw_confusion_matrix(test_y, svc_preds)\n",
    "give_auc_draw_roc(test_y, svc_preds)"
   ]
  },
  {
   "cell_type": "code",
   "execution_count": 59,
   "metadata": {
    "collapsed": false
   },
   "outputs": [
    {
     "name": "stdout",
     "output_type": "stream",
     "text": [
      "('Best C & associated score', {'n_estimators': 465, 'scale_pos_weight': 1.7, 'learning_rate': 0.1}, 0.8877473738345579)\n"
     ]
    }
   ],
   "source": [
    "#Xgboost\n",
    "\n",
    "params =  {'learning_rate':[0.1], 'n_estimators':np.logspace(0.01,3,10, dtype=int), 'scale_pos_weight':[1.7]}\n",
    "\n",
    "xgb = GridSearchCV(XGBClassifier(), params, n_jobs=-1, cv=3, scoring='roc_auc')\n",
    "xgb = xgb.fit(train_x, train_y)\n",
    "xgb_preds = xgb.predict(test_x)\n",
    "\n",
    "print(\"Best C & associated score\", xgb.best_params_, xgb.best_score_)"
   ]
  },
  {
   "cell_type": "code",
   "execution_count": 60,
   "metadata": {
    "collapsed": false
   },
   "outputs": [
    {
     "name": "stdout",
     "output_type": "stream",
     "text": [
      "[   1    2    4   10   21   46  100  216  465 1000]\n"
     ]
    },
    {
     "data": {
      "image/png": "[encoded data removed]",
      "text/plain": [
       "<matplotlib.figure.Figure at 0x7f0224060810>"
      ]
     },
     "metadata": {},
     "output_type": "display_data"
    },
    {
     "data": {
      "text/plain": [
       "array([[289, 182],\n",
       "       [ 96, 685]])"
      ]
     },
     "execution_count": 60,
     "metadata": {},
     "output_type": "execute_result"
    }
   ],
   "source": [
    "print np.logspace(0.01,3,10, dtype=int)\n",
    "draw_confusion_matrix(test_y, xgb_preds)"
   ]
  },
  {
   "cell_type": "code",
   "execution_count": 61,
   "metadata": {
    "collapsed": false
   },
   "outputs": [
    {
     "name": "stdout",
     "output_type": "stream",
     "text": [
      "('Best params & associated score', {'criterion': 'entropy'}, 0.8523638100030099)\n"
     ]
    }
   ],
   "source": [
    "#extra trees classifier\n",
    "params = {'criterion': ['entropy']}\n",
    "etc = GridSearchCV(ExtraTreesClassifier(n_estimators = 1000, class_weight=class_weight_dict), params, \n",
    "                   n_jobs = -1, cv=3, scoring = 'roc_auc')\n",
    "etc.fit(train_x, train_y)\n",
    "etc_preds = etc.predict(test_x)\n",
    "\n",
    "print(\"Best params & associated score\", etc.best_params_, etc.best_score_)"
   ]
  },
  {
   "cell_type": "code",
   "execution_count": 62,
   "metadata": {
    "collapsed": false
   },
   "outputs": [
    {
     "data": {
      "image/png": "[encoded data removed]",
      "text/plain": [
       "<matplotlib.figure.Figure at 0x7f0224097f50>"
      ]
     },
     "metadata": {},
     "output_type": "display_data"
    },
    {
     "data": {
      "image/png": "[encoded data removed]",
      "text/plain": [
       "<matplotlib.figure.Figure at 0x7f022c09c5d0>"
      ]
     },
     "metadata": {},
     "output_type": "display_data"
    },
    {
     "data": {
      "text/plain": [
       "0.75914160896667404"
      ]
     },
     "execution_count": 62,
     "metadata": {},
     "output_type": "execute_result"
    }
   ],
   "source": [
    "draw_confusion_matrix(test_y, etc_preds)\n",
    "give_auc_draw_roc(test_y, etc_preds)"
   ]
  },
  {
   "cell_type": "code",
   "execution_count": 63,
   "metadata": {
    "collapsed": false
   },
   "outputs": [
    {
     "name": "stdout",
     "output_type": "stream",
     "text": [
      "('Best params & associated score', {'learning_rate': 0.20000000000000001}, 0.824977064916935)\n"
     ]
    }
   ],
   "source": [
    "#ada boost classifier\n",
    "params = {'learning_rate': np.linspace(0.01, 0.2, 10)}\n",
    "abc = GridSearchCV(AdaBoostClassifier(n_estimators = 1000), params, n_jobs = -1, cv=3, scoring = 'roc_auc')\n",
    "abc.fit(train_x, train_y)\n",
    "abc_preds = abc.predict(test_x)\n",
    "\n",
    "print(\"Best params & associated score\", abc.best_params_, abc.best_score_)"
   ]
  },
  {
   "cell_type": "code",
   "execution_count": 77,
   "metadata": {
    "collapsed": false
   },
   "outputs": [
    {
     "data": {
      "image/png": "[encoded data removed]",
      "text/plain": [
       "<matplotlib.figure.Figure at 0x7f021d767910>"
      ]
     },
     "metadata": {},
     "output_type": "display_data"
    },
    {
     "data": {
      "image/png": "[encoded data removed]",
      "text/plain": [
       "<matplotlib.figure.Figure at 0x7f022c042c10>"
      ]
     },
     "metadata": {},
     "output_type": "display_data"
    },
    {
     "data": {
      "text/plain": [
       "0.68454754778429305"
      ]
     },
     "execution_count": 77,
     "metadata": {},
     "output_type": "execute_result"
    }
   ],
   "source": [
    "draw_confusion_matrix(test_y, abc_preds)\n",
    "give_auc_draw_roc(test_y, abc_preds)"
   ]
  },
  {
   "cell_type": "code",
   "execution_count": 66,
   "metadata": {
    "collapsed": false
   },
   "outputs": [
    {
     "name": "stdout",
     "output_type": "stream",
     "text": [
      "('Best params & associated score', {'loss': 'exponential'}, 0.8876484512880138)\n"
     ]
    }
   ],
   "source": [
    "#gradient boosting classifier\n",
    "params = {'loss': ['deviance', 'exponential']}\n",
    "gbc = GridSearchCV(GradientBoostingClassifier(n_estimators = 1000), params, n_jobs = -1, cv=3, scoring = 'roc_auc')\n",
    "gbc.fit(train_x, train_y)\n",
    "gbc_preds = gbc.predict(test_x)\n",
    "\n",
    "print(\"Best params & associated score\", gbc.best_params_, gbc.best_score_)"
   ]
  },
  {
   "cell_type": "code",
   "execution_count": 78,
   "metadata": {
    "collapsed": false
   },
   "outputs": [
    {
     "data": {
      "image/png": "[encoded data removed]",
      "text/plain": [
       "<matplotlib.figure.Figure at 0x7f021d639490>"
      ]
     },
     "metadata": {},
     "output_type": "display_data"
    },
    {
     "data": {
      "image/png": "[encoded data removed]",
      "text/plain": [
       "<matplotlib.figure.Figure at 0x7f021d527fd0>"
      ]
     },
     "metadata": {},
     "output_type": "display_data"
    },
    {
     "data": {
      "text/plain": [
       "0.76785301657464577"
      ]
     },
     "execution_count": 78,
     "metadata": {},
     "output_type": "execute_result"
    }
   ],
   "source": [
    "draw_confusion_matrix(test_y, gbc_preds)\n",
    "give_auc_draw_roc(test_y, gbc_preds)"
   ]
  },
  {
   "cell_type": "markdown",
   "metadata": {
    "collapsed": false
   },
   "source": [
    "## Storing the new predictions as features"
   ]
  },
  {
   "cell_type": "code",
   "execution_count": 148,
   "metadata": {
    "collapsed": false
   },
   "outputs": [
    {
     "name": "stdout",
     "output_type": "stream",
     "text": [
      "(1252, 7)\n"
     ]
    }
   ],
   "source": [
    "new_X_preds = np.vstack((rfm_preds, lr_preds, svc_preds, gbc_preds, abc_preds, xgb_preds, etc_preds)).T\n",
    "print np.shape(new_X_preds)"
   ]
  },
  {
   "cell_type": "code",
   "execution_count": 153,
   "metadata": {
    "collapsed": false
   },
   "outputs": [
    {
     "data": {
      "text/plain": [
       "LogisticRegression(C=0.1, class_weight=None, dual=False, fit_intercept=True,\n",
       "          intercept_scaling=1, max_iter=100, multi_class='ovr', n_jobs=1,\n",
       "          penalty='l2', random_state=None, solver='liblinear', tol=0.0001,\n",
       "          verbose=0, warm_start=False)"
      ]
     },
     "execution_count": 153,
     "metadata": {},
     "output_type": "execute_result"
    }
   ],
   "source": [
    "params = {}\n",
    "ensembled_model = LogisticRegression(penalty='l2', C=0.1)\n",
    "ensembled_model.fit(new_X_preds, test_y)\n",
    "\n",
    "#print(\"Best params & associated score\", ensembling.best_params_, ensembling.best_score_)"
   ]
  },
  {
   "cell_type": "code",
   "execution_count": 222,
   "metadata": {
    "collapsed": false
   },
   "outputs": [
    {
     "data": {
      "text/plain": [
       "array([ 0.78,  0.24, -0.38,  0.77,  0.06,  0.66,  0.67])"
      ]
     },
     "execution_count": 222,
     "metadata": {},
     "output_type": "execute_result"
    }
   ],
   "source": [
    "ensembled_model.coef_[0]"
   ]
  },
  {
   "cell_type": "code",
   "execution_count": 254,
   "metadata": {
    "collapsed": false
   },
   "outputs": [
    {
     "name": "stdout",
     "output_type": "stream",
     "text": [
      "+----+--------------------+-----------+\n",
      "|    | Model Names        |    Coeffs |\n",
      "|----+--------------------+-----------|\n",
      "|  0 | LogisticRegression |  0.235712 |\n",
      "|  1 | GBC                |  0.765893 |\n",
      "|  2 | RandomForest       |  0.776694 |\n",
      "|  3 | XGB                |  0.65708  |\n",
      "|  4 | ETC                |  0.668268 |\n",
      "|  5 | SVM                | -0.380972 |\n",
      "|  6 | ADB                |  0.061877 |\n",
      "+----+--------------------+-----------+\n"
     ]
    }
   ],
   "source": [
    "coef_dict = {}\n",
    "mod_fts = ['RandomForest', 'LogisticRegression', 'SVM', 'GBC', 'ADB', 'XGB', 'ETC']\n",
    "for coef, feat in zip(ensembled_model.coef_[0],mod_fts):\n",
    "    coef_dict[feat] = coef\n",
    "    \n",
    "x = pd.DataFrame(coef_dict.values(), coef_dict.keys())\n",
    "\n",
    "x['Model Names'] = x.index\n",
    "x['Coeffs'] = x[0] \n",
    "x = x.drop(0, axis=1)\n",
    "x = x.reset_index()\n",
    "x= x.drop('index', axis=1)\n",
    "x\n",
    "\n",
    "from tabulate import tabulate\n",
    "\n",
    "print tabulate(x, headers='keys', tablefmt='psql')"
   ]
  },
  {
   "cell_type": "code",
   "execution_count": 194,
   "metadata": {
    "collapsed": false
   },
   "outputs": [
    {
     "data": {
      "text/plain": [
       "0.79485752891087535"
      ]
     },
     "execution_count": 194,
     "metadata": {},
     "output_type": "execute_result"
    }
   ],
   "source": [
    "scores = cross_validation.cross_val_score(ensembled_model, new_X_preds, test_y, cv=3, scoring='precision')\n",
    "\n",
    "np.mean(scores)"
   ]
  },
  {
   "cell_type": "code",
   "execution_count": 193,
   "metadata": {
    "collapsed": false
   },
   "outputs": [
    {
     "data": {
      "text/plain": [
       "0.84636015325670499"
      ]
     },
     "execution_count": 193,
     "metadata": {},
     "output_type": "execute_result"
    }
   ],
   "source": [
    "scores = cross_validation.cross_val_score(ensembled_model, new_X_preds, test_y, cv=3, scoring='recall')\n",
    "\n",
    "np.mean(scores)"
   ]
  },
  {
   "cell_type": "code",
   "execution_count": 213,
   "metadata": {
    "collapsed": false
   },
   "outputs": [
    {
     "data": {
      "text/plain": [
       "0.84218260650283494"
      ]
     },
     "execution_count": 213,
     "metadata": {},
     "output_type": "execute_result"
    }
   ],
   "source": [
    "scores = cross_validation.cross_val_score(ensembled_model, new_X_preds, test_y, cv=3, scoring='roc_auc')\n",
    "\n",
    "np.mean(scores)"
   ]
  },
  {
   "cell_type": "code",
   "execution_count": 161,
   "metadata": {
    "collapsed": false
   },
   "outputs": [],
   "source": [
    "ensemble_predictions = ensembled_model.predict(new_X_preds)\n"
   ]
  },
  {
   "cell_type": "code",
   "execution_count": 164,
   "metadata": {
    "collapsed": false
   },
   "outputs": [
    {
     "name": "stdout",
     "output_type": "stream",
     "text": [
      "Normalized confusion matrix\n",
      "[[ 0.72  0.28]\n",
      " [ 0.21  0.79]]\n"
     ]
    },
    {
     "data": {
      "image/png": "[encoded data removed]",
      "text/plain": [
       "<matplotlib.figure.Figure at 0x7f021ce088d0>"
      ]
     },
     "metadata": {},
     "output_type": "display_data"
    }
   ],
   "source": [
    "conf_matrix = metrics.confusion_matrix(ensemble_predictions, test_y)\n",
    "plot_confusion_matrix(conf_matrix, ['Not Churn', 'Churn'])\n",
    "plt.show()\n",
    "conf_matx_fig = plt.gcf()\n",
    "conf_matx_fig.savefig('conf_matx.pdf', dpi=100)"
   ]
  },
  {
   "cell_type": "code",
   "execution_count": 212,
   "metadata": {
    "collapsed": false
   },
   "outputs": [
    {
     "data": {
      "text/plain": [
       "0.75569086381367767"
      ]
     },
     "execution_count": 212,
     "metadata": {},
     "output_type": "execute_result"
    }
   ],
   "source": [
    "give_auc_draw_roc(ensemble_predictions, test_y)"
   ]
  },
  {
   "cell_type": "code",
   "execution_count": 211,
   "metadata": {
    "collapsed": false
   },
   "outputs": [
    {
     "name": "stdout",
     "output_type": "stream",
     "text": [
      "[ 1.86 -0.59  1.86 ..., -1.25 -1.07  0.03]\n"
     ]
    },
    {
     "data": {
      "image/png": "[encoded data removed]",
      "text/plain": [
       "<matplotlib.figure.Figure at 0x7f021d47c650>"
      ]
     },
     "metadata": {},
     "output_type": "display_data"
    }
   ],
   "source": [
    "from sklearn.metrics import precision_recall_curve\n",
    "from sklearn.metrics import average_precision_score\n",
    "from itertools import cycle\n",
    "\n",
    "y_score = ensembled_model.fit(new_X_preds, test_y).decision_function(new_X_preds)\n",
    "\n",
    "print y_score\n",
    "colors = cycle(['darkorange', 'cornflowerblue', 'teal'])\n",
    "precision = dict()\n",
    "recall = dict()\n",
    "average_precision = dict()\n",
    "for i in range(2):\n",
    "    precision[i], recall[i], _ = precision_recall_curve(test_y,\n",
    "                                                        ensemble_predictions)\n",
    "    average_precision[i] = average_precision_score(ensemble_predictions, test_y)\n",
    " \n",
    "\n",
    "average_precision[\"micro\"] = average_precision_score(test_y, y_score,\n",
    "                                                     average=\"micro\")\n",
    "\n",
    "\n",
    "lw = 2\n",
    "plt.clf()\n",
    "plt.plot(recall[0], precision[0], lw=lw, color='navy',\n",
    "         label='Precision-Recall curve')\n",
    "plt.xlabel('Recall')\n",
    "plt.ylabel('Precision')\n",
    "plt.ylim([0.0, 1.05])\n",
    "plt.xlim([0.0, 1.0])\n",
    "plt.title('Precision-Recall Curve: AUC={0:0.2f}'.format(average_precision[0]))\n",
    "plt.legend(loc=\"lower left\")\n",
    "plt.show()"
   ]
  },
  {
   "cell_type": "code",
   "execution_count": 163,
   "metadata": {
    "collapsed": false
   },
   "outputs": [],
   "source": [
    "import itertools\n",
    "from pylab import savefig\n",
    "def plot_confusion_matrix(cm, classes,\n",
    "                          normalize=True,\n",
    "                          title='Confusion matrix',\n",
    "                          cmap=plt.cm.BuPu):\n",
    "    \"\"\"\n",
    "    This function prints and plots the confusion matrix.\n",
    "    Normalization can be applied by setting `normalize=True`.\n",
    "    \"\"\"\n",
    "    np.set_printoptions(precision=2)\n",
    "    plt.imshow(cm, interpolation='nearest', cmap=cmap)\n",
    "    plt.title(title)\n",
    "    #plt.colorbar()\n",
    "    tick_marks = np.arange(len(classes))\n",
    "    plt.xticks(tick_marks, classes, rotation=45)\n",
    "    plt.yticks(tick_marks, classes)\n",
    "    \n",
    "\n",
    "    if normalize:\n",
    "        cm = cm.astype('float') / cm.sum(axis=1)[:, np.newaxis]\n",
    "        print(\"Normalized confusion matrix\")\n",
    "        \n",
    "    else:\n",
    "        print('Confusion matrix, without normalization')\n",
    "\n",
    "    print(cm)\n",
    "\n",
    "    thresh = cm.max() / 2.\n",
    "    for i, j in itertools.product(range(cm.shape[0]), range(cm.shape[1])):\n",
    "        plt.text(j, i, cm[i, j],\n",
    "                 horizontalalignment=\"center\",\n",
    "                 color=\"white\" if cm[i, j] > thresh else \"black\")\n",
    "\n",
    "    plt.tight_layout()\n",
    "    plt.ylabel('True label')\n",
    "    plt.xlabel('Predicted label')\n",
    "    plt"
   ]
  }
 ],
 "metadata": {
  "kernelspec": {
   "display_name": "Python 2",
   "language": "python",
   "name": "python2"
  },
  "language_info": {
   "codemirror_mode": {
    "name": "ipython",
    "version": 2
   },
   "file_extension": ".py",
   "mimetype": "text/x-python",
   "name": "python",
   "nbconvert_exporter": "python",
   "pygments_lexer": "ipython2",
   "version": "2.7.13"
  }
 },
 "nbformat": 4,
 "nbformat_minor": 2
}
